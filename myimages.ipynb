{
  "nbformat": 4,
  "nbformat_minor": 0,
  "metadata": {
    "colab": {
      "name": "myimages.ipynb",
      "provenance": []
    },
    "kernelspec": {
      "name": "python3",
      "display_name": "Python 3"
    }
  },
  "cells": [
    {
      "cell_type": "code",
      "metadata": {
        "id": "mZHOOtH7hr9x"
      },
      "source": [
        "!wget -q https://raw.githubusercontent.com/blackdew/tensorflow1/master/csv/notMNIST_small.tar.gz\n",
        "!tar -xzf notMNIST_small.tar.gz"
      ],
      "execution_count": 1,
      "outputs": []
    },
    {
      "cell_type": "code",
      "metadata": {
        "colab": {
          "base_uri": "https://localhost:8080/"
        },
        "id": "RNUcVT3ch-oO",
        "outputId": "c986b17b-5f2b-4bae-d89c-096132d6a905"
      },
      "source": [
        "# 이미지 읽어서 데이터 준비하기\n",
        "import glob\n",
        "import numpy as np\n",
        "import pandas as pd\n",
        "import matplotlib.pyplot as plt\n",
        "\n",
        "paths = glob.glob('./notMNIST_small/*/*.png')\n",
        "paths = np.random.permutation(paths)\n",
        "독립 = np.array([plt.imread(paths[i]) for i in range(len(paths))])\n",
        "종속 = np.array([paths[i].split('/')[-2] for i in range(len(paths))])\n",
        "print(독립.shape, 종속.shape)"
      ],
      "execution_count": 2,
      "outputs": [
        {
          "output_type": "stream",
          "text": [
            "(18724, 28, 28) (18724,)\n"
          ],
          "name": "stdout"
        }
      ]
    },
    {
      "cell_type": "code",
      "metadata": {
        "colab": {
          "base_uri": "https://localhost:8080/"
        },
        "id": "PTTIxkhTh-hl",
        "outputId": "02eb1c2a-99aa-4fc3-eea4-83cf9553b712"
      },
      "source": [
        "종속[0:10]"
      ],
      "execution_count": 3,
      "outputs": [
        {
          "output_type": "execute_result",
          "data": {
            "text/plain": [
              "array(['F', 'H', 'H', 'H', 'J', 'F', 'H', 'F', 'E', 'C'], dtype='<U1')"
            ]
          },
          "metadata": {
            "tags": []
          },
          "execution_count": 3
        }
      ]
    },
    {
      "cell_type": "code",
      "metadata": {
        "colab": {
          "base_uri": "https://localhost:8080/",
          "height": 282
        },
        "id": "UtXEGsJjh-dg",
        "outputId": "d6c5e595-09bc-40d4-fd53-c46de6e19898"
      },
      "source": [
        "plt.imshow(독립[3], cmap='gray')"
      ],
      "execution_count": 4,
      "outputs": [
        {
          "output_type": "execute_result",
          "data": {
            "text/plain": [
              "<matplotlib.image.AxesImage at 0x7f7b41dcc470>"
            ]
          },
          "metadata": {
            "tags": []
          },
          "execution_count": 4
        },
        {
          "output_type": "display_data",
          "data": {
            "image/png": "[encoded data removed]",
            "text/plain": [
              "<Figure size 432x288 with 1 Axes>"
            ]
          },
          "metadata": {
            "tags": [],
            "needs_background": "light"
          }
        }
      ]
    },
    {
      "cell_type": "code",
      "metadata": {
        "colab": {
          "base_uri": "https://localhost:8080/"
        },
        "id": "9mcsoev0h-ZP",
        "outputId": "757878d1-dec6-46bc-9a59-f6728cf742c5"
      },
      "source": [
        "독립 = 독립.reshape(18724, 28, 28, 1)\n",
        "종속 = pd.get_dummies(종속)\n",
        "print(독립.shape, 종속.shape)"
      ],
      "execution_count": 5,
      "outputs": [
        {
          "output_type": "stream",
          "text": [
            "(18724, 28, 28, 1) (18724, 10)\n"
          ],
          "name": "stdout"
        }
      ]
    },
    {
      "cell_type": "code",
      "metadata": {
        "id": "Idrl8cC6h-Vi"
      },
      "source": [
        "import tensorflow as tf \n",
        "\n",
        "# 모델을 완성합니다. \n",
        "X = tf.keras.layers.Input(shape=[28, 28, 1])\n",
        "\n",
        "H = tf.keras.layers.Conv2D(6, kernel_size=5, padding='same', activation='swish')(X)\n",
        "H = tf.keras.layers.MaxPool2D()(H)\n",
        "\n",
        "H = tf.keras.layers.Conv2D(16, kernel_size=5, activation='swish')(H)\n",
        "H = tf.keras.layers.MaxPool2D()(H)\n",
        "\n",
        "H = tf.keras.layers.Flatten()(H)\n",
        "H = tf.keras.layers.Dense(120, activation='swish')(H)\n",
        "H = tf.keras.layers.Dense(84, activation='swish')(H)\n",
        "Y = tf.keras.layers.Dense(10, activation='softmax')(H)\n",
        "\n",
        "model = tf.keras.models.Model(X, Y)\n",
        "model.compile(loss='categorical_crossentropy', metrics='accuracy')"
      ],
      "execution_count": 6,
      "outputs": []
    },
    {
      "cell_type": "code",
      "metadata": {
        "colab": {
          "base_uri": "https://localhost:8080/"
        },
        "id": "Ph7lUGfgh-R6",
        "outputId": "ab2dc442-2768-46d3-9379-69ce39b9562a"
      },
      "source": [
        "model.fit(독립, 종속, epochs=10)"
      ],
      "execution_count": 7,
      "outputs": [
        {
          "output_type": "stream",
          "text": [
            "Epoch 1/10\n",
            "586/586 [==============================] - 15s 25ms/step - loss: 0.8085 - accuracy: 0.7544\n",
            "Epoch 2/10\n",
            "586/586 [==============================] - 14s 24ms/step - loss: 0.2709 - accuracy: 0.9171\n",
            "Epoch 3/10\n",
            "586/586 [==============================] - 14s 24ms/step - loss: 0.1950 - accuracy: 0.9381\n",
            "Epoch 4/10\n",
            "586/586 [==============================] - 14s 24ms/step - loss: 0.1677 - accuracy: 0.9471\n",
            "Epoch 5/10\n",
            "586/586 [==============================] - 14s 24ms/step - loss: 0.1426 - accuracy: 0.9546\n",
            "Epoch 6/10\n",
            "586/586 [==============================] - 14s 24ms/step - loss: 0.1253 - accuracy: 0.9620\n",
            "Epoch 7/10\n",
            "586/586 [==============================] - 14s 23ms/step - loss: 0.1034 - accuracy: 0.9672\n",
            "Epoch 8/10\n",
            "586/586 [==============================] - 14s 24ms/step - loss: 0.0800 - accuracy: 0.9733\n",
            "Epoch 9/10\n",
            "586/586 [==============================] - 14s 24ms/step - loss: 0.0754 - accuracy: 0.9750\n",
            "Epoch 10/10\n",
            "586/586 [==============================] - 14s 23ms/step - loss: 0.0582 - accuracy: 0.9793\n"
          ],
          "name": "stdout"
        },
        {
          "output_type": "execute_result",
          "data": {
            "text/plain": [
              "<tensorflow.python.keras.callbacks.History at 0x7f7b044954e0>"
            ]
          },
          "metadata": {
            "tags": []
          },
          "execution_count": 7
        }
      ]
    },
    {
      "cell_type": "code",
      "metadata": {
        "id": "K3md1HTLiRPj"
      },
      "source": [
        ""
      ],
      "execution_count": null,
      "outputs": []
    }
  ]
}